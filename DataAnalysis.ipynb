{
 "cells": [
  {
   "cell_type": "code",
   "execution_count": 11,
   "metadata": {},
   "outputs": [],
   "source": [
    "import pandas as pd\n",
    "import re\n",
    "from random import randint\n",
    "from collections import Counter\n",
    "from tqdm import tqdm"
   ]
  },
  {
   "cell_type": "markdown",
   "metadata": {},
   "source": [
    "#### regex for parsing out punctuations as separate words"
   ]
  },
  {
   "cell_type": "code",
   "execution_count": 12,
   "metadata": {},
   "outputs": [],
   "source": [
    "split_condition=re.compile(r\"\\w+|[^\\w\\s]\",  re.UNICODE)"
   ]
  },
  {
   "cell_type": "markdown",
   "metadata": {},
   "source": [
    "#### read the raw data from file and into a dataframe"
   ]
  },
  {
   "cell_type": "code",
   "execution_count": 29,
   "metadata": {},
   "outputs": [],
   "source": [
    "en_text=[]\n",
    "fr_text=[]\n",
    "with open('data/europarl-v7.fr-en.en','rt',encoding='utf-8') as f:\n",
    "    for line in f:\n",
    "        en_text.append(line)\n",
    "with open('data/europarl-v7.fr-en.fr','rt',encoding='utf-8') as f:\n",
    "    for line in f:\n",
    "        fr_text.append(line)"
   ]
  },
  {
   "cell_type": "code",
   "execution_count": 14,
   "metadata": {},
   "outputs": [],
   "source": [
    "en_text=en_text[:100]\n",
    "fr_text=fr_text[:100]\n",
    "with open('data/europarl-v7.fr-en_small.en','wt',encoding='utf-8') as f:\n",
    "        for item in en_text:\n",
    "            f.write(item)\n",
    "with open('data/europarl-v7.fr-en_small.fr','wt',encoding='utf-8') as f:\n",
    "    for item in fr_text:\n",
    "        f.write(item)\n",
    "for i in range(5):\n",
    "    with open('data/europarl-v7.fr-en_small.en','at',encoding='utf-8') as f:\n",
    "        for item in en_text:\n",
    "            f.write(item)\n",
    "    with open('data/europarl-v7.fr-en_small.fr','at',encoding='utf-8') as f:\n",
    "        for item in fr_text:\n",
    "            f.write(item)"
   ]
  },
  {
   "cell_type": "code",
   "execution_count": 35,
   "metadata": {},
   "outputs": [],
   "source": [
    "df=pd.DataFrame(\n",
    "{\n",
    "    'English':en_text,\n",
    "    'French':fr_text\n",
    "}\n",
    ")"
   ]
  },
  {
   "cell_type": "code",
   "execution_count": 16,
   "metadata": {},
   "outputs": [],
   "source": [
    "with open('data/europarl-v7.fr-en_small.en','wt',encoding='utf-8') as f:\n",
    "    for i in range(10000):\n",
    "        f.write(en_text[99])\n",
    "with open('data/europarl-v7.fr-en_small.fr','wt',encoding='utf-8') as f:\n",
    "    for i in range(10000):\n",
    "        f.write(fr_text[99])\n"
   ]
  },
  {
   "cell_type": "markdown",
   "metadata": {},
   "source": [
    "#### count number of words for each row"
   ]
  },
  {
   "cell_type": "code",
   "execution_count": 36,
   "metadata": {},
   "outputs": [],
   "source": [
    "def get_number_of_words(text,reexp):\n",
    "    #words=reexp.findall(text)\n",
    "    words=text.split(' ')\n",
    "    return len(words)"
   ]
  },
  {
   "cell_type": "code",
   "execution_count": 37,
   "metadata": {},
   "outputs": [
    {
     "data": {
      "text/html": [
       "<div>\n",
       "<style scoped>\n",
       "    .dataframe tbody tr th:only-of-type {\n",
       "        vertical-align: middle;\n",
       "    }\n",
       "\n",
       "    .dataframe tbody tr th {\n",
       "        vertical-align: top;\n",
       "    }\n",
       "\n",
       "    .dataframe thead th {\n",
       "        text-align: right;\n",
       "    }\n",
       "</style>\n",
       "<table border=\"1\" class=\"dataframe\">\n",
       "  <thead>\n",
       "    <tr style=\"text-align: right;\">\n",
       "      <th></th>\n",
       "      <th>English</th>\n",
       "      <th>French</th>\n",
       "      <th>English_WordCount</th>\n",
       "      <th>French_WordCount</th>\n",
       "    </tr>\n",
       "  </thead>\n",
       "  <tbody>\n",
       "    <tr>\n",
       "      <th>0</th>\n",
       "      <td>Resumption of the session\\n</td>\n",
       "      <td>Reprise de la session\\n</td>\n",
       "      <td>4</td>\n",
       "      <td>4</td>\n",
       "    </tr>\n",
       "    <tr>\n",
       "      <th>1</th>\n",
       "      <td>I declare resumed the session of the European ...</td>\n",
       "      <td>Je déclare reprise la session du Parlement eur...</td>\n",
       "      <td>38</td>\n",
       "      <td>33</td>\n",
       "    </tr>\n",
       "    <tr>\n",
       "      <th>2</th>\n",
       "      <td>Although, as you will have seen, the dreaded '...</td>\n",
       "      <td>Comme vous avez pu le constater, le grand \"bog...</td>\n",
       "      <td>31</td>\n",
       "      <td>37</td>\n",
       "    </tr>\n",
       "    <tr>\n",
       "      <th>3</th>\n",
       "      <td>You have requested a debate on this subject in...</td>\n",
       "      <td>Vous avez souhaité un débat à ce sujet dans le...</td>\n",
       "      <td>19</td>\n",
       "      <td>19</td>\n",
       "    </tr>\n",
       "    <tr>\n",
       "      <th>4</th>\n",
       "      <td>In the meantime, I should like to observe a mi...</td>\n",
       "      <td>En attendant, je souhaiterais, comme un certai...</td>\n",
       "      <td>40</td>\n",
       "      <td>38</td>\n",
       "    </tr>\n",
       "  </tbody>\n",
       "</table>\n",
       "</div>"
      ],
      "text/plain": [
       "                                             English  \\\n",
       "0                        Resumption of the session\\n   \n",
       "1  I declare resumed the session of the European ...   \n",
       "2  Although, as you will have seen, the dreaded '...   \n",
       "3  You have requested a debate on this subject in...   \n",
       "4  In the meantime, I should like to observe a mi...   \n",
       "\n",
       "                                              French  English_WordCount  \\\n",
       "0                            Reprise de la session\\n                  4   \n",
       "1  Je déclare reprise la session du Parlement eur...                 38   \n",
       "2  Comme vous avez pu le constater, le grand \"bog...                 31   \n",
       "3  Vous avez souhaité un débat à ce sujet dans le...                 19   \n",
       "4  En attendant, je souhaiterais, comme un certai...                 40   \n",
       "\n",
       "   French_WordCount  \n",
       "0                 4  \n",
       "1                33  \n",
       "2                37  \n",
       "3                19  \n",
       "4                38  "
      ]
     },
     "execution_count": 37,
     "metadata": {},
     "output_type": "execute_result"
    }
   ],
   "source": [
    "df['English_WordCount']=df['English'].apply(lambda x:get_number_of_words(x,split_condition))\n",
    "df['French_WordCount']=df['French'].apply(lambda x:get_number_of_words(x,split_condition))\n",
    "df.head()"
   ]
  },
  {
   "cell_type": "code",
   "execution_count": 38,
   "metadata": {},
   "outputs": [
    {
     "name": "stdout",
     "output_type": "stream",
     "text": [
      "However, a thorough review of the Commission's organisational model could not be put off: we had committed ourselves to the task before Parliament and the work was most urgent and absolutely essential.\n",
      "\n",
      "['However', ',', 'a', 'thorough', 'review', 'of', 'the', 'Commission', \"'\", 's', 'organisational', 'model', 'could', 'not', 'be', 'put', 'off', ':', 'we', 'had', 'committed', 'ourselves', 'to', 'the', 'task', 'before', 'Parliament', 'and', 'the', 'work', 'was', 'most', 'urgent', 'and', 'absolutely', 'essential', '.']\n",
      "Nous ne pouvions cependant remettre à plus tard la révision du modèle organisationnel de la Commission. Nous nous étions engagés devant vous et cette mesure est urgente et indispensable.\n",
      "\n",
      "['Nous', 'ne', 'pouvions', 'cependant', 'remettre', 'à', 'plus', 'tard', 'la', 'révision', 'du', 'modèle', 'organisationnel', 'de', 'la', 'Commission', '.', 'Nous', 'nous', 'étions', 'engagés', 'devant', 'vous', 'et', 'cette', 'mesure', 'est', 'urgente', 'et', 'indispensable', '.']\n"
     ]
    }
   ],
   "source": [
    "i=randint(0,df.shape[0])\n",
    "print(df.iloc[i]['English'])\n",
    "print(split_condition.findall(df.iloc[i]['English']))\n",
    "print(df.iloc[i]['French'])\n",
    "print(split_condition.findall(df.iloc[i]['French']))"
   ]
  },
  {
   "cell_type": "code",
   "execution_count": 39,
   "metadata": {},
   "outputs": [
    {
     "data": {
      "text/html": [
       "<div>\n",
       "<style scoped>\n",
       "    .dataframe tbody tr th:only-of-type {\n",
       "        vertical-align: middle;\n",
       "    }\n",
       "\n",
       "    .dataframe tbody tr th {\n",
       "        vertical-align: top;\n",
       "    }\n",
       "\n",
       "    .dataframe thead th {\n",
       "        text-align: right;\n",
       "    }\n",
       "</style>\n",
       "<table border=\"1\" class=\"dataframe\">\n",
       "  <thead>\n",
       "    <tr style=\"text-align: right;\">\n",
       "      <th></th>\n",
       "      <th>English</th>\n",
       "      <th>French</th>\n",
       "      <th>English_WordCount</th>\n",
       "      <th>French_WordCount</th>\n",
       "      <th>E</th>\n",
       "      <th>F</th>\n",
       "      <th>Threshold</th>\n",
       "    </tr>\n",
       "  </thead>\n",
       "  <tbody>\n",
       "    <tr>\n",
       "      <th>0</th>\n",
       "      <td>Resumption of the session\\n</td>\n",
       "      <td>Reprise de la session\\n</td>\n",
       "      <td>4</td>\n",
       "      <td>4</td>\n",
       "      <td>0</td>\n",
       "      <td>0</td>\n",
       "      <td>0</td>\n",
       "    </tr>\n",
       "    <tr>\n",
       "      <th>1</th>\n",
       "      <td>I declare resumed the session of the European ...</td>\n",
       "      <td>Je déclare reprise la session du Parlement eur...</td>\n",
       "      <td>38</td>\n",
       "      <td>33</td>\n",
       "      <td>0</td>\n",
       "      <td>0</td>\n",
       "      <td>0</td>\n",
       "    </tr>\n",
       "    <tr>\n",
       "      <th>2</th>\n",
       "      <td>Although, as you will have seen, the dreaded '...</td>\n",
       "      <td>Comme vous avez pu le constater, le grand \"bog...</td>\n",
       "      <td>31</td>\n",
       "      <td>37</td>\n",
       "      <td>0</td>\n",
       "      <td>0</td>\n",
       "      <td>0</td>\n",
       "    </tr>\n",
       "    <tr>\n",
       "      <th>3</th>\n",
       "      <td>You have requested a debate on this subject in...</td>\n",
       "      <td>Vous avez souhaité un débat à ce sujet dans le...</td>\n",
       "      <td>19</td>\n",
       "      <td>19</td>\n",
       "      <td>0</td>\n",
       "      <td>0</td>\n",
       "      <td>0</td>\n",
       "    </tr>\n",
       "    <tr>\n",
       "      <th>4</th>\n",
       "      <td>In the meantime, I should like to observe a mi...</td>\n",
       "      <td>En attendant, je souhaiterais, comme un certai...</td>\n",
       "      <td>40</td>\n",
       "      <td>38</td>\n",
       "      <td>0</td>\n",
       "      <td>0</td>\n",
       "      <td>0</td>\n",
       "    </tr>\n",
       "  </tbody>\n",
       "</table>\n",
       "</div>"
      ],
      "text/plain": [
       "                                             English  \\\n",
       "0                        Resumption of the session\\n   \n",
       "1  I declare resumed the session of the European ...   \n",
       "2  Although, as you will have seen, the dreaded '...   \n",
       "3  You have requested a debate on this subject in...   \n",
       "4  In the meantime, I should like to observe a mi...   \n",
       "\n",
       "                                              French  English_WordCount  \\\n",
       "0                            Reprise de la session\\n                  4   \n",
       "1  Je déclare reprise la session du Parlement eur...                 38   \n",
       "2  Comme vous avez pu le constater, le grand \"bog...                 31   \n",
       "3  Vous avez souhaité un débat à ce sujet dans le...                 19   \n",
       "4  En attendant, je souhaiterais, comme un certai...                 40   \n",
       "\n",
       "   French_WordCount  E  F  Threshold  \n",
       "0                 4  0  0          0  \n",
       "1                33  0  0          0  \n",
       "2                37  0  0          0  \n",
       "3                19  0  0          0  \n",
       "4                38  0  0          0  "
      ]
     },
     "execution_count": 39,
     "metadata": {},
     "output_type": "execute_result"
    }
   ],
   "source": [
    "threshold=50\n",
    "df['E']=df['English_WordCount'].apply(lambda x:1 if x>threshold else 0)\n",
    "df['F']=df['French_WordCount'].apply(lambda x:1 if x>threshold else 0)\n",
    "df['Threshold']=(df['E']+df['F'])\n",
    "df.head()"
   ]
  },
  {
   "cell_type": "code",
   "execution_count": 53,
   "metadata": {},
   "outputs": [
    {
     "name": "stdout",
     "output_type": "stream",
     "text": [
      "2007723 164752\n"
     ]
    }
   ],
   "source": [
    "temp=df[df['Threshold']>0]\n",
    "print(df.shape[0],temp.shape[0])\n",
    "from string import punctuation"
   ]
  },
  {
   "cell_type": "markdown",
   "metadata": {},
   "source": [
    "### count words"
   ]
  },
  {
   "cell_type": "code",
   "execution_count": 56,
   "metadata": {},
   "outputs": [
    {
     "name": "stderr",
     "output_type": "stream",
     "text": [
      "100%|█████████████████████████████████████████████████████████████████████| 2007723/2007723 [00:46<00:00, 43012.14it/s]\n"
     ]
    }
   ],
   "source": [
    "english_words=Counter()\n",
    "for sentence in tqdm(df['English'].tolist()):\n",
    "    words = [word for word in split_condition.findall(sentence.lower()) if word not in punctuation]\n",
    "    for word in words:\n",
    "        english_words[word] += 1\n",
    "#english_words"
   ]
  },
  {
   "cell_type": "code",
   "execution_count": 55,
   "metadata": {},
   "outputs": [
    {
     "name": "stderr",
     "output_type": "stream",
     "text": [
      "100%|█████████████████████████████████████████████████████████████████████| 2007723/2007723 [00:56<00:00, 35359.80it/s]\n"
     ]
    }
   ],
   "source": [
    "french_words=Counter()\n",
    "for sentence in tqdm(df['French'].tolist()):\n",
    "    words = [word for word in split_condition.findall(sentence.lower()) if word not in punctuation]\n",
    "    for word in words:\n",
    "        french_words[word] += 1\n",
    "#french_words"
   ]
  },
  {
   "cell_type": "code",
   "execution_count": 57,
   "metadata": {},
   "outputs": [
    {
     "data": {
      "text/plain": [
       "84386"
      ]
     },
     "execution_count": 57,
     "metadata": {},
     "output_type": "execute_result"
    }
   ],
   "source": [
    "len(english_words)"
   ]
  },
  {
   "cell_type": "code",
   "execution_count": 58,
   "metadata": {},
   "outputs": [
    {
     "data": {
      "text/plain": [
       "115383"
      ]
     },
     "execution_count": 58,
     "metadata": {},
     "output_type": "execute_result"
    }
   ],
   "source": [
    "len(french_words)"
   ]
  },
  {
   "cell_type": "code",
   "execution_count": 59,
   "metadata": {},
   "outputs": [],
   "source": [
    "limit=20\n",
    "low_freq_en=[]\n",
    "for word in english_words:\n",
    "    if english_words[word]<=limit: low_freq_en.append(word)\n",
    "low_freq_fr=[]\n",
    "for word in french_words:\n",
    "    if french_words[word]<=limit: low_freq_fr.append(word)"
   ]
  },
  {
   "cell_type": "code",
   "execution_count": 60,
   "metadata": {},
   "outputs": [
    {
     "name": "stdout",
     "output_type": "stream",
     "text": [
      "61837\n",
      "85180\n"
     ]
    }
   ],
   "source": [
    "print(len(low_freq_en))\n",
    "print(len(low_freq_fr))"
   ]
  },
  {
   "cell_type": "code",
   "execution_count": 61,
   "metadata": {},
   "outputs": [
    {
     "data": {
      "text/plain": [
       "22549"
      ]
     },
     "execution_count": 61,
     "metadata": {},
     "output_type": "execute_result"
    }
   ],
   "source": [
    "len(english_words)-len(low_freq_en)"
   ]
  },
  {
   "cell_type": "code",
   "execution_count": 62,
   "metadata": {},
   "outputs": [
    {
     "data": {
      "text/plain": [
       "30203"
      ]
     },
     "execution_count": 62,
     "metadata": {},
     "output_type": "execute_result"
    }
   ],
   "source": [
    "len(french_words)-len(low_freq_fr)"
   ]
  },
  {
   "cell_type": "code",
   "execution_count": 42,
   "metadata": {},
   "outputs": [],
   "source": [
    "max_words=50\n",
    "en_text=[]\n",
    "fr_text=[]\n",
    "with open('data/europarl-v7.fr-en.en','rt',encoding='utf-8') as f1,open('data/europarl-v7.fr-en.fr','rt',encoding='utf-8') as f2:\n",
    "        for line_en,line_fr in zip(f1,f2):\n",
    "            words_en=line_en.split(' ')\n",
    "            words_fr=line_fr.split(' ')\n",
    "            if len(words_en)<=max_words and len(words_fr)<=max_words:\n",
    "                en_text.append(line_en)\n",
    "                fr_text.append(line_fr)\n",
    "with open('data/europarl-v7.fr-en_'+str(max_words)+'.en','wt',encoding='utf-8') as f:\n",
    "    for item in en_text:\n",
    "        f.write(item)\n",
    "with open('data/europarl-v7.fr-en_'+str(max_words)+'.fr','wt',encoding='utf-8') as f:\n",
    "    for item in fr_text:\n",
    "        f.write(item)"
   ]
  },
  {
   "cell_type": "code",
   "execution_count": null,
   "metadata": {},
   "outputs": [],
   "source": []
  }
 ],
 "metadata": {
  "kernelspec": {
   "display_name": "Python 3",
   "language": "python",
   "name": "python3"
  },
  "language_info": {
   "codemirror_mode": {
    "name": "ipython",
    "version": 3
   },
   "file_extension": ".py",
   "mimetype": "text/x-python",
   "name": "python",
   "nbconvert_exporter": "python",
   "pygments_lexer": "ipython3",
   "version": "3.6.4"
  }
 },
 "nbformat": 4,
 "nbformat_minor": 2
}
